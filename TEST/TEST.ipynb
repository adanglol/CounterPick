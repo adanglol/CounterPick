{
 "cells": [
  {
   "cell_type": "code",
   "execution_count": null,
   "id": "6199015d-a602-4443-8057-4cf5787fcde3",
   "metadata": {
    "scrolled": true
   },
   "outputs": [],
   "source": [
    "# CHECK OUR DEPENDENCIES THAT WE HAVE \n",
    "!pip list"
   ]
  },
  {
   "cell_type": "code",
   "execution_count": null,
   "id": "8add0e09-5b3a-47f3-b983-ac8e9f1fb9bc",
   "metadata": {},
   "outputs": [],
   "source": [
    "from dotenv import load_dotenv\n",
    "import os \n",
    "\n",
    "load_dotenv()\n",
    "\n",
    "print(os.environ.get('RIOT_API_KEY'))"
   ]
  },
  {
   "cell_type": "code",
   "execution_count": null,
   "id": "40f09284-52d9-4a6d-a0c7-d3abd366a10f",
   "metadata": {},
   "outputs": [],
   "source": [
    "import pygsheets\n",
    "\n",
    "service_account = pygsheets.authorize(service_account_file='../JSONS/spreadsheet-automater-442917-df4c20260fbc.json')\n",
    "\n",
    "sheet = service_account.open_by_url('https://docs.google.com/spreadsheets/d/1BNii3rkiKVw5BwEYmTTuqTI1V9ce46t52pXRCX_G7TM/edit?usp=sharing')"
   ]
  },
  {
   "cell_type": "code",
   "execution_count": null,
   "id": "906aee1c-0779-4745-869e-0568a3bf0b0b",
   "metadata": {},
   "outputs": [],
   "source": [
    "\n",
    "test = sheet.worksheet('title','TEST')\n",
    "print(test)"
   ]
  },
  {
   "cell_type": "code",
   "execution_count": null,
   "id": "059cfddc-8b56-4979-adf9-397d9d8d3e87",
   "metadata": {},
   "outputs": [],
   "source": [
    "test_df = test.get_as_df()\n",
    "\n",
    "test_df['random_numbers'] = 1\n",
    "\n",
    "test_df\n",
    "\n"
   ]
  },
  {
   "cell_type": "code",
   "execution_count": null,
   "id": "7fdad6c7-0fdd-4d58-9a8b-660f4a92a38e",
   "metadata": {},
   "outputs": [],
   "source": [
    "# Writing data into google sheets programatically\n",
    "test.set_dataframe(test_df,'A1',copy_head=True)"
   ]
  },
  {
   "cell_type": "code",
   "execution_count": null,
   "id": "fc1a230f",
   "metadata": {},
   "outputs": [],
   "source": [
    "import os\n",
    "import requests\n",
    "from dotenv import load_dotenv\n",
    "load_dotenv()\n",
    "\n",
    "# GET PUUID for GIVEN USER AND TAG LINE \n",
    "RIOT_API_KEY = os.environ.get('RIOT_API_KEY')\n",
    "USERNAME = 'Adragegood'   \n",
    "TAG_LINE = 'NA1'\n",
    "PUUID = 'M8xApHTCkty4N-Jz7ZVP5j5p0CVnZKM8ajEV6bn6ezq3Xgo9AG1mFPlvhlaWRzp6Vy47vTlR8GGuRw'\n",
    "SUM_ID = 'TgyaCz98lKsKQF83Uo0hNRArNY7kH9lT8KvBQusfMaj9fuU'\n",
    "REGION = 'americas'\n",
    "\n",
    "def get_puuid(gameName=None,tagLine=None,api_key=None,region=None):\n",
    "    link = f'https://{region}.api.riotgames.com/riot/account/v1/accounts/by-riot-id/{gameName}/{tagLine}?api_key={api_key}'\n",
    "    response = requests.get(link)\n",
    "    return response.json()[\"puuid\"]\n",
    "\n",
    "def get_name_and_tag(puuid=None,api_key=None,region=None):\n",
    "    link = f'https://{region}.api.riotgames.com/riot/account/v1/accounts/by-puuid/{puuid}?api_key={api_key}'\n",
    "    response = requests.get(link)\n",
    "    id = {\n",
    "        'gameName' : response.json()['gameName'],\n",
    "        'tagLine' : response.json()['tagLine']\n",
    "    }\n",
    "    return id\n",
    "\n",
    "\n",
    "\n"
   ]
  },
  {
   "cell_type": "code",
   "execution_count": null,
   "id": "806eb5c8",
   "metadata": {},
   "outputs": [],
   "source": [
    "# TESTING GET PUUID AND AS WELL AS GET NAME AND TAG LINE WITH A PUUID\n",
    "get_puuid(USERNAME,TAG_LINE,RIOT_API_KEY,REGION)\n",
    "\n"
   ]
  },
  {
   "cell_type": "code",
   "execution_count": null,
   "id": "7ab0d60b",
   "metadata": {},
   "outputs": [],
   "source": [
    "get_name_and_tag(PUUID,RIOT_API_KEY,REGION)"
   ]
  },
  {
   "cell_type": "code",
   "execution_count": null,
   "id": "d9d0a387",
   "metadata": {},
   "outputs": [],
   "source": [
    "# LEAGUE - V4 is ranked latter for riot API\n",
    "\n",
    "import pandas as pd \n",
    "\n",
    "\n",
    "def get_ladder(top=None):\n",
    "    root = 'https://na1.api.riotgames.com/'\n",
    "    chall = 'lol/league/v4/challengerleagues/by-queue/RANKED_SOLO_5x5'\n",
    "    grand_m = 'lol/league/v4/grandmasterleagues/by-queue/RANKED_SOLO_5x5'\n",
    "    master = 'lol/league/v4/masterleagues/by-queue/RANKED_SOLO_5x5'\n",
    "\n",
    "\n",
    "    chall_response = requests.get(root + chall + '?api_key=' + RIOT_API_KEY)\n",
    "    gm_response = requests.get(root + grand_m + '?api_key=' + RIOT_API_KEY)\n",
    "    m_response = requests.get(root + master + '?api_key=' + RIOT_API_KEY)\n",
    "\n",
    "    chall_df = pd.DataFrame(chall_response.json()['entries']).sort_values('leaguePoints',ascending=False).reset_index(drop=True)\n",
    "    gm_df = pd.DataFrame(gm_response.json()['entries']).sort_values('leaguePoints',ascending=False).reset_index(drop=True)\n",
    "    m_df = pd.DataFrame(m_response.json()['entries']).sort_values('leaguePoints',ascending=False).reset_index(drop=True)\n",
    "\n",
    "\n",
    "    ladder = pd.concat([chall_df,gm_df,m_df]).reset_index(drop=True)[:top]\n",
    "    ladder = ladder.drop(columns='rank').reset_index(drop=False).rename(columns={'index':'rank'})\n",
    "    ladder['rank'] +=1\n",
    "\n",
    "    return ladder\n"
   ]
  },
  {
   "cell_type": "code",
   "execution_count": null,
   "id": "3bc369f1",
   "metadata": {},
   "outputs": [],
   "source": [
    "get_ladder(10)"
   ]
  }
 ],
 "metadata": {
  "kernelspec": {
   "display_name": "venv",
   "language": "python",
   "name": "python3"
  },
  "language_info": {
   "codemirror_mode": {
    "name": "ipython",
    "version": 3
   },
   "file_extension": ".py",
   "mimetype": "text/x-python",
   "name": "python",
   "nbconvert_exporter": "python",
   "pygments_lexer": "ipython3",
   "version": "3.12.4"
  }
 },
 "nbformat": 4,
 "nbformat_minor": 5
}
